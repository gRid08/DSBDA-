{
 "cells": [
  {
   "cell_type": "code",
   "execution_count": 7,
   "id": "face4d4c",
   "metadata": {},
   "outputs": [
    {
     "name": "stdout",
     "output_type": "stream",
     "text": [
      "Sukanya Rajib and Naba are my good friends Sukanya is getting married next year Marriage is a big step in one’s lifeIt is both exciting and frightening But friendship is a sacred bond between peopleIt is a special kind of love between us Many of you must have tried searching for a friend but never found the right one\n",
      "Original Document:\n",
      " Sukanya, Rajib and Naba are my good friends. Sukanya is getting married next year. Marriage is a big step in one’s life.It is both exciting and frightening. But friendship is a sacred bond between people.It is a special kind of love between us. Many of you must have tried searching for a friend but never found the right one.\n",
      "\n",
      "Tokenization:\n",
      " ['Sukanya', 'Rajib', 'and', 'Naba', 'are', 'my', 'good', 'friends', 'Sukanya', 'is', 'getting', 'married', 'next', 'year', 'Marriage', 'is', 'a', 'big', 'step', 'in', 'one', '’', 's', 'lifeIt', 'is', 'both', 'exciting', 'and', 'frightening', 'But', 'friendship', 'is', 'a', 'sacred', 'bond', 'between', 'peopleIt', 'is', 'a', 'special', 'kind', 'of', 'love', 'between', 'us', 'Many', 'of', 'you', 'must', 'have', 'tried', 'searching', 'for', 'a', 'friend', 'but', 'never', 'found', 'the', 'right', 'one']\n",
      "\n",
      "POS Tagging:\n",
      " [('Sukanya', 'NNP'), ('Rajib', 'NNP'), ('and', 'CC'), ('Naba', 'NNP'), ('are', 'VBP'), ('my', 'PRP$'), ('good', 'JJ'), ('friends', 'NNS'), ('Sukanya', 'NNP'), ('is', 'VBZ'), ('getting', 'VBG'), ('married', 'VBN'), ('next', 'JJ'), ('year', 'NN'), ('Marriage', 'NN'), ('is', 'VBZ'), ('a', 'DT'), ('big', 'JJ'), ('step', 'NN'), ('in', 'IN'), ('one', 'CD'), ('’', 'NN'), ('s', 'NN'), ('lifeIt', 'NN'), ('is', 'VBZ'), ('both', 'DT'), ('exciting', 'VBG'), ('and', 'CC'), ('frightening', 'VBG'), ('But', 'CC'), ('friendship', 'NN'), ('is', 'VBZ'), ('a', 'DT'), ('sacred', 'JJ'), ('bond', 'NN'), ('between', 'IN'), ('peopleIt', 'NN'), ('is', 'VBZ'), ('a', 'DT'), ('special', 'JJ'), ('kind', 'NN'), ('of', 'IN'), ('love', 'NN'), ('between', 'IN'), ('us', 'PRP'), ('Many', 'NNP'), ('of', 'IN'), ('you', 'PRP'), ('must', 'MD'), ('have', 'VB'), ('tried', 'VBN'), ('searching', 'VBG'), ('for', 'IN'), ('a', 'DT'), ('friend', 'NN'), ('but', 'CC'), ('never', 'RB'), ('found', 'VBD'), ('the', 'DT'), ('right', 'JJ'), ('one', 'NN')]\n",
      "\n",
      "Stop Words Removal:\n",
      " ['Sukanya', 'Rajib', 'Naba', 'good', 'friends', 'Sukanya', 'getting', 'married', 'next', 'year', 'Marriage', 'big', 'step', 'one', '’', 'lifeIt', 'exciting', 'frightening', 'friendship', 'sacred', 'bond', 'peopleIt', 'special', 'kind', 'love', 'us', 'Many', 'must', 'tried', 'searching', 'friend', 'never', 'found', 'right', 'one']\n",
      "\n",
      "Stemming:\n",
      " ['sukanya', 'rajib', 'naba', 'good', 'friend', 'sukanya', 'get', 'marri', 'next', 'year', 'marriag', 'big', 'step', 'one', '’', 'lifeit', 'excit', 'frighten', 'friendship', 'sacr', 'bond', 'peopleit', 'special', 'kind', 'love', 'us', 'mani', 'must', 'tri', 'search', 'friend', 'never', 'found', 'right', 'one']\n",
      "\n",
      "Lemmatization:\n",
      " ['Sukanya', 'Rajib', 'Naba', 'good', 'friend', 'Sukanya', 'getting', 'married', 'next', 'year', 'Marriage', 'big', 'step', 'one', '’', 'lifeIt', 'exciting', 'frightening', 'friendship', 'sacred', 'bond', 'peopleIt', 'special', 'kind', 'love', 'u', 'Many', 'must', 'tried', 'searching', 'friend', 'never', 'found', 'right', 'one']\n"
     ]
    }
   ],
   "source": [
    "import nltk\n",
    "from nltk.tokenize import word_tokenize\n",
    "from nltk.corpus import stopwords\n",
    "from nltk.stem import PorterStemmer, WordNetLemmatizer\n",
    "from nltk import pos_tag\n",
    "from nltk import *\n",
    "from nltk.corpus import wordnet\n",
    "import string\n",
    "# Sample document\n",
    "document = \"Sukanya, Rajib and Naba are my good friends. \" \\\n",
    "\t\"Sukanya is getting married next year. \" \\\n",
    "\t\"Marriage is a big step in one’s life.\" \\\n",
    "\t\"It is both exciting and frightening. \" \\\n",
    "\t\"But friendship is a sacred bond between people.\" \\\n",
    "\"It is a special kind of love between us. \" \\\n",
    "\t\"Many of you must have tried searching for a friend \"\\\n",
    "\t\"but never found the right one.\"\n",
    "\n",
    "new_txt = document.translate(str.maketrans('', '', string.punctuation))\n",
    "print(new_txt)\n",
    "\n",
    "\n",
    "tokens = word_tokenize(new_txt)\n",
    "\n",
    "# POS tagging\n",
    "pos_tags = pos_tag(tokens)\n",
    "\n",
    "# Stop words removal\n",
    "stop_words = set(stopwords.words(\"english\"))\n",
    "filtered_tokens = [token for token in tokens if token.lower() not in stop_words]\n",
    "\n",
    "# Stemming\n",
    "stemmer = PorterStemmer()\n",
    "stemmed_tokens = [stemmer.stem(token) for token in filtered_tokens]\n",
    "\n",
    "# Lemmatization\n",
    "lemmatizer = WordNetLemmatizer()\n",
    "lemmatized_tokens = [lemmatizer.lemmatize(token) for token in filtered_tokens]\n",
    "\n",
    "# Print the results\n",
    "print(\"Original Document:\\n\", document)\n",
    "print(\"\\nTokenization:\\n\", tokens)\n",
    "print(\"\\nPOS Tagging:\\n\", pos_tags)\n",
    "print(\"\\nStop Words Removal:\\n\", filtered_tokens)\n",
    "print(\"\\nStemming:\\n\", stemmed_tokens)\n",
    "print(\"\\nLemmatization:\\n\", lemmatized_tokens)\n"
   ]
  },
  {
   "cell_type": "code",
   "execution_count": null,
   "id": "4b9879ee",
   "metadata": {},
   "outputs": [],
   "source": []
  },
  {
   "cell_type": "code",
   "execution_count": null,
   "id": "9a4fdc97",
   "metadata": {},
   "outputs": [],
   "source": []
  },
  {
   "cell_type": "code",
   "execution_count": null,
   "id": "aa9b2a03",
   "metadata": {},
   "outputs": [],
   "source": []
  },
  {
   "cell_type": "code",
   "execution_count": null,
   "id": "909c26dc",
   "metadata": {},
   "outputs": [],
   "source": []
  }
 ],
 "metadata": {
  "kernelspec": {
   "display_name": "Python 3 (ipykernel)",
   "language": "python",
   "name": "python3"
  },
  "language_info": {
   "codemirror_mode": {
    "name": "ipython",
    "version": 3
   },
   "file_extension": ".py",
   "mimetype": "text/x-python",
   "name": "python",
   "nbconvert_exporter": "python",
   "pygments_lexer": "ipython3",
   "version": "3.9.13"
  }
 },
 "nbformat": 4,
 "nbformat_minor": 5
}
