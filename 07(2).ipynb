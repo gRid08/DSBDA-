{
 "cells": [
  {
   "cell_type": "code",
   "execution_count": 1,
   "id": "37c0ea76",
   "metadata": {},
   "outputs": [],
   "source": [
    "from sklearn.feature_extraction.text import TfidfVectorizer"
   ]
  },
  {
   "cell_type": "code",
   "execution_count": 2,
   "id": "8264a35f",
   "metadata": {},
   "outputs": [
    {
     "data": {
      "text/plain": [
       "TfidfVectorizer()"
      ]
     },
     "execution_count": 2,
     "metadata": {},
     "output_type": "execute_result"
    }
   ],
   "source": [
    "documents = [\n",
    "    \"This is the first document.\",\n",
    "    \"This document is the second document.\",\n",
    "    \"And this is the third one.\",\n",
    "    \"Is this the first document?\",\n",
    "]\n",
    "\n",
    "# Create a TfidfVectorizer object\n",
    "vectorizer = TfidfVectorizer()\n",
    "\n",
    "# Fit the vectorizer on the documents\n",
    "vectorizer.fit(documents)"
   ]
  },
  {
   "cell_type": "code",
   "execution_count": 4,
   "id": "2f659cac",
   "metadata": {},
   "outputs": [],
   "source": [
    "tfidf_matrix = vectorizer.transform(documents)\n",
    "\n",
    "# Convert the matrix to an array\n",
    "tfidf_array = tfidf_matrix.toarray()\n"
   ]
  },
  {
   "cell_type": "code",
   "execution_count": 5,
   "id": "dcbab95c",
   "metadata": {},
   "outputs": [
    {
     "name": "stdout",
     "output_type": "stream",
     "text": [
      "Document: This is the first document.\n",
      "TF-IDF: [0.         0.46979139 0.58028582 0.38408524 0.         0.\n",
      " 0.38408524 0.         0.38408524]\n",
      "\n",
      "Document: This document is the second document.\n",
      "TF-IDF: [0.         0.6876236  0.         0.28108867 0.         0.53864762\n",
      " 0.28108867 0.         0.28108867]\n",
      "\n",
      "Document: And this is the third one.\n",
      "TF-IDF: [0.51184851 0.         0.         0.26710379 0.51184851 0.\n",
      " 0.26710379 0.51184851 0.26710379]\n",
      "\n",
      "Document: Is this the first document?\n",
      "TF-IDF: [0.         0.46979139 0.58028582 0.38408524 0.         0.\n",
      " 0.38408524 0.         0.38408524]\n",
      "\n"
     ]
    }
   ],
   "source": [
    "for i, document in enumerate(documents):\n",
    "    print(\"Document:\", document)\n",
    "    print(\"TF-IDF:\", tfidf_array[i])\n",
    "    print()"
   ]
  },
  {
   "cell_type": "code",
   "execution_count": null,
   "id": "4eb682d5",
   "metadata": {},
   "outputs": [],
   "source": []
  }
 ],
 "metadata": {
  "kernelspec": {
   "display_name": "Python 3 (ipykernel)",
   "language": "python",
   "name": "python3"
  },
  "language_info": {
   "codemirror_mode": {
    "name": "ipython",
    "version": 3
   },
   "file_extension": ".py",
   "mimetype": "text/x-python",
   "name": "python",
   "nbconvert_exporter": "python",
   "pygments_lexer": "ipython3",
   "version": "3.9.13"
  }
 },
 "nbformat": 4,
 "nbformat_minor": 5
}
